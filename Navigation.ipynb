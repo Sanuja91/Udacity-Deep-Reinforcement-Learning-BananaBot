{
 "cells": [
  {
   "cell_type": "markdown",
   "metadata": {},
   "source": [
    "# Navigation\n",
    "\n",
    "---"
   ]
  },
  {
   "cell_type": "markdown",
   "metadata": {},
   "source": [
    "### Initializing Environment - DON'T REPEAT!!!"
   ]
  },
  {
   "cell_type": "code",
   "execution_count": 1,
   "metadata": {
    "scrolled": true
   },
   "outputs": [
    {
     "name": "stderr",
     "output_type": "stream",
     "text": [
      "INFO:unityagents:\n",
      "'Academy' started successfully!\n",
      "Unity Academy name: Academy\n",
      "        Number of Brains: 1\n",
      "        Number of External Brains : 1\n",
      "        Lesson number : 0\n",
      "        Reset Parameters :\n",
      "\t\t\n",
      "Unity brain name: BananaBrain\n",
      "        Number of Visual Observations (per agent): 0\n",
      "        Vector Observation space type: continuous\n",
      "        Vector Observation space size (per agent): 37\n",
      "        Number of stacked Vector Observation: 1\n",
      "        Vector Action space type: discrete\n",
      "        Vector Action space size (per agent): 4\n",
      "        Vector Action descriptions: , , , \n"
     ]
    },
    {
     "name": "stdout",
     "output_type": "stream",
     "text": [
      "Number of agents: 1\n",
      "Number of actions: 4\n",
      "States look like: [0.         1.         0.         0.         0.27946243 0.\n",
      " 1.         0.         0.         0.74556106 0.         0.\n",
      " 1.         0.         0.48277503 0.         1.         0.\n",
      " 0.         0.30341193 0.         0.         1.         0.\n",
      " 0.46494457 0.         0.         1.         0.         0.08466676\n",
      " 0.         1.         0.         0.         0.95967758 0.\n",
      " 0.        ]\n",
      "States have length: 37\n"
     ]
    }
   ],
   "source": [
    "import utilities\n",
    "env, env_info, state, state_size, action_size, brain_name = utilities.initialize_env()"
   ]
  },
  {
   "cell_type": "markdown",
   "metadata": {},
   "source": [
    "### Running simulation"
   ]
  },
  {
   "cell_type": "code",
   "execution_count": 2,
   "metadata": {},
   "outputs": [
    {
     "name": "stdout",
     "output_type": "stream",
     "text": [
      "########################## VANILLA DQN ##########################\n",
      "\n",
      "Loading Vanilla DQN\n",
      "\n",
      "\n",
      "Loading checkpoint\n",
      "\n",
      "\n",
      "Cannot find VANILLA_DQN checkpoint... Proceeding to create fresh neural network\n",
      "\n",
      "Episode 100\tAverage Score: 0.53\n",
      "Episode 200\tAverage Score: 3.17\n",
      "Episode 300\tAverage Score: 6.48\n",
      "Episode 400\tAverage Score: 10.44\n",
      "Episode 500\tAverage Score: 12.20\n",
      "Episode 531\tAverage Score: 13.01\n",
      "Environment solved in 431 episodes!\tAverage Score: 13.01\n",
      "########################## DUELING DQN ##########################\n",
      "\n",
      "Loading Dueling DQN\n",
      "\n",
      "Episode 100\tAverage Score: 0.88\n",
      "Episode 200\tAverage Score: 4.87\n",
      "Episode 300\tAverage Score: 8.23\n",
      "Episode 400\tAverage Score: 10.16\n",
      "Episode 500\tAverage Score: 11.78\n",
      "Episode 561\tAverage Score: 13.04\n",
      "Environment solved in 461 episodes!\tAverage Score: 13.04\n",
      "########################## DOUBLE DQN ##########################\n",
      "\n",
      "Loading Double Vanilla DQN\n",
      "\n",
      "Episode 100\tAverage Score: 0.42\n",
      "Episode 200\tAverage Score: 3.99\n",
      "Episode 300\tAverage Score: 7.58\n",
      "Episode 400\tAverage Score: 9.81\n",
      "Episode 500\tAverage Score: 12.56\n",
      "Episode 510\tAverage Score: 13.00\n",
      "Environment solved in 410 episodes!\tAverage Score: 13.00\n",
      "########################## DOUBLE DUELING DQN ##########################\n",
      "\n",
      "Loading Double Dueling DQN\n",
      "\n",
      "Episode 100\tAverage Score: 0.72\n",
      "Episode 200\tAverage Score: 4.40\n",
      "Episode 300\tAverage Score: 8.20\n",
      "Episode 400\tAverage Score: 11.01\n",
      "Episode 468\tAverage Score: 13.03\n",
      "Environment solved in 368 episodes!\tAverage Score: 13.03\n"
     ]
    }
   ],
   "source": [
    "import constants\n",
    "from agents import Agent\n",
    "from dqn import dqn\n",
    "\n",
    "# Vanilla DQN\n",
    "print(\"########################## VANILLA DQN ##########################\")\n",
    "agent = Agent(nn_type=constants.VANILLA_DQN, state_size=state_size, action_size=action_size, seed=0, load_agent = True)\n",
    "\n",
    "vanilla_dqn_scores = dqn(agent, env, brain_name)\n",
    "\n",
    "# Dueling Network\n",
    "print(\"########################## DUELING DQN ##########################\")\n",
    "agent = Agent(nn_type=constants.DUELING_DQN, state_size=state_size, action_size=action_size, seed=0)\n",
    "\n",
    "dueling_dqn_scores = dqn(agent, env, brain_name)\n",
    "\n",
    "# Double DQN\n",
    "print(\"########################## DOUBLE DQN ##########################\")\n",
    "agent = Agent(nn_type=constants.VANILLA_DQN, state_size=state_size, action_size=action_size, seed=0, doubleDQN = True)\n",
    "\n",
    "double_dqn_scores = dqn(agent, env, brain_name)\n",
    "\n",
    "# Double Dueling DQN\n",
    "print(\"########################## DOUBLE DUELING DQN ##########################\")\n",
    "agent = Agent(nn_type=constants.DUELING_DQN, state_size=state_size, action_size=action_size, seed=0, doubleDQN = True)\n",
    "\n",
    "double_dueling_dqn_scores = dqn(agent, env, brain_name)\n"
   ]
  },
  {
   "cell_type": "code",
   "execution_count": null,
   "metadata": {},
   "outputs": [],
   "source": []
  }
 ],
 "metadata": {
  "kernelspec": {
   "display_name": "Python 3",
   "language": "python",
   "name": "python3"
  },
  "language_info": {
   "codemirror_mode": {
    "name": "ipython",
    "version": 3
   },
   "file_extension": ".py",
   "mimetype": "text/x-python",
   "name": "python",
   "nbconvert_exporter": "python",
   "pygments_lexer": "ipython3",
   "version": "3.6.8"
  }
 },
 "nbformat": 4,
 "nbformat_minor": 2
}
